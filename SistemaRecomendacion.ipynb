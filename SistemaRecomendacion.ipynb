{
 "cells": [
  {
   "cell_type": "code",
   "execution_count": null,
   "metadata": {},
   "outputs": [],
   "source": [
    "import pandas as pd\n",
    "import numpy as np\n",
    "from sklearn.feature_extraction.text import TfidfVectorizer\n",
    "from sklearn.metrics.pairwise import cosine_similarity\n",
    "from unidecode import unidecode "
   ]
  },
  {
   "cell_type": "code",
   "execution_count": null,
   "metadata": {},
   "outputs": [],
   "source": [
    "df_movies = pd.read_csv(\"Movies_EDA.csv\", sep=\",\")"
   ]
  },
  {
   "cell_type": "code",
   "execution_count": null,
   "metadata": {},
   "outputs": [],
   "source": [
    "df_movies.info()"
   ]
  },
  {
   "attachments": {},
   "cell_type": "markdown",
   "metadata": {},
   "source": [
    "Solo tomaremos las columnas que necesitemos para el sistema de recomendación."
   ]
  },
  {
   "cell_type": "code",
   "execution_count": null,
   "metadata": {},
   "outputs": [],
   "source": [
    "df_movies = df_movies[[\"title\", \"overview\", \"release_year\", \"genres_names\", \"runtime\"]].copy()"
   ]
  },
  {
   "cell_type": "code",
   "execution_count": null,
   "metadata": {},
   "outputs": [],
   "source": [
    "df_movies.info()"
   ]
  },
  {
   "attachments": {},
   "cell_type": "markdown",
   "metadata": {},
   "source": [
    "Eliminamos los duplicados de la columna title."
   ]
  },
  {
   "cell_type": "code",
   "execution_count": null,
   "metadata": {},
   "outputs": [],
   "source": [
    "df_movies.drop_duplicates(subset=['title'],inplace=True)\n",
    "df_movies=df_movies.reset_index(drop=True)\n",
    "df_movies.shape"
   ]
  },
  {
   "cell_type": "code",
   "execution_count": null,
   "metadata": {},
   "outputs": [],
   "source": [
    "print(df_movies.head)"
   ]
  },
  {
   "attachments": {},
   "cell_type": "markdown",
   "metadata": {},
   "source": [
    "        ► Sistema de recomendación."
   ]
  },
  {
   "attachments": {},
   "cell_type": "markdown",
   "metadata": {},
   "source": [
    "Se realizará un sistema de recomendación de películas basados en el resumen y el género de la película de entrada. \n",
    "\n",
    "El resultado incluirá el título de la película, el año de estreno y la duración de la película recomendada.\n",
    "\n",
    "\n",
    "Lo que se realizó en la función fue:\n",
    "\n",
    "*Normalizamos el título ingresado por el usuario para que no distinga entre mayúsculas y minúsculas, y no tenga en cuenta los acentos.*\n",
    "\n",
    "*Se obtiene la película de entrada por título en la base de datos.*\n",
    " \n",
    "*Calculamos la similitud entre la película de entrada y las demás películas en función del resumen.*\n",
    "    \n",
    "*Se filtró las películas similares por género.*\n",
    "    \n",
    "*Se ordenó las películas similares según la similitud.*\n",
    "    \n",
    "*Conversión de los datos de duración de las recomendaciones de tipo float a int.*\n",
    "    \n",
    "*Retorno de las películas recomendadas, incluyendo el título, el año de estreno y la duración.*"
   ]
  },
  {
   "cell_type": "code",
   "execution_count": 90,
   "metadata": {},
   "outputs": [],
   "source": [
    "def normalize_text(text):\n",
    "    # Convertimos el texto a minúsculas y removemos acentos\n",
    "        if isinstance(text, str):\n",
    "            text = unidecode(text.lower())\n",
    "        else:\n",
    "            text = text.apply(lambda x: unidecode(x.lower()))\n",
    "        return text"
   ]
  },
  {
   "cell_type": "code",
   "execution_count": 91,
   "metadata": {},
   "outputs": [],
   "source": [
    "def recommend_movies(title):\n",
    "    # Normalizamos el título sin diferenciar acentos\n",
    "    title = normalize_text(title)\n",
    "    \n",
    "    # Obtenemos la película de entrada por título\n",
    "    movie = df_movies[normalize_text(df_movies['title'].apply(normalize_text)) == title]\n",
    "    \n",
    "    if len(movie) == 0:\n",
    "        return \"No se encontró la película en la base de datos.\"\n",
    "    \n",
    "    # Obtenemos el índice de la película de entrada\n",
    "    index = movie.index[0]\n",
    "    \n",
    "    # Obtenemos el resumen y género de la película de entrada\n",
    "    overview = df_movies.loc[index, 'overview']\n",
    "    genre = df_movies.loc[index, 'genres_names']\n",
    "    \n",
    "    # Calculamos la similitud basada en el resumen\n",
    "    tfidf_vectorizer = TfidfVectorizer()\n",
    "    tfidf_matrix = tfidf_vectorizer.fit_transform(df_movies['overview'])\n",
    "    overview_similarities = cosine_similarity(tfidf_matrix[index], tfidf_matrix).flatten()\n",
    "    \n",
    "    # Filtramos películas similares por género\n",
    "    similar_movies_indices = overview_similarities.argsort()[::-1]\n",
    "    similar_movies = df_movies.loc[similar_movies_indices]\n",
    "    similar_movies = similar_movies[similar_movies['genres_names'].str.contains(genre)].head(6)\n",
    "    \n",
    "    # Eliminamos la película de entrada de las recomendaciones\n",
    "    similar_movies = similar_movies[similar_movies.index != index]\n",
    "    \n",
    "    # Convertimos el tiempo a enteros\n",
    "    similar_movies['runtime'] = similar_movies['runtime'].astype(int)\n",
    "    \n",
    "    return similar_movies[['title', 'release_year', 'runtime']]\n"
   ]
  },
  {
   "cell_type": "code",
   "execution_count": 92,
   "metadata": {},
   "outputs": [
    {
     "name": "stdout",
     "output_type": "stream",
     "text": [
      "                         title  release_year  runtime\n",
      "9107        Fear and Trembling          2003      107\n",
      "24142        The Walking Stick          1970       96\n",
      "28950                   Quints          2000       83\n",
      "16387  The High Cost of Living          2010       92\n",
      "38339            Goin' to Town          1935       74\n"
     ]
    }
   ],
   "source": [
    "title = input(\"Ingrese el título de la película: \")\n",
    "recommendations = recommend_movies(title)\n",
    "\n",
    "if isinstance(recommendations, str):\n",
    "    print(recommendations)\n",
    "else:\n",
    "    print(recommendations)"
   ]
  },
  {
   "cell_type": "code",
   "execution_count": null,
   "metadata": {},
   "outputs": [],
   "source": []
  }
 ],
 "metadata": {
  "kernelspec": {
   "display_name": "Python 3",
   "language": "python",
   "name": "python3"
  },
  "language_info": {
   "codemirror_mode": {
    "name": "ipython",
    "version": 3
   },
   "file_extension": ".py",
   "mimetype": "text/x-python",
   "name": "python",
   "nbconvert_exporter": "python",
   "pygments_lexer": "ipython3",
   "version": "3.11.1"
  },
  "orig_nbformat": 4
 },
 "nbformat": 4,
 "nbformat_minor": 2
}
