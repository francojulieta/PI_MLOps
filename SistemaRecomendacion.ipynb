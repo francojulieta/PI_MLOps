{
 "cells": [
  {
   "cell_type": "code",
   "execution_count": 1,
   "metadata": {},
   "outputs": [],
   "source": [
    "import pandas as pd\n",
    "import numpy as np\n",
    "from sklearn.feature_extraction.text import TfidfVectorizer\n",
    "from sklearn.metrics.pairwise import cosine_similarity\n",
    "from unidecode import unidecode "
   ]
  },
  {
   "cell_type": "code",
   "execution_count": 2,
   "metadata": {},
   "outputs": [],
   "source": [
    "df_movies = pd.read_csv(\"Movies_EDA.csv\", sep=\",\")"
   ]
  },
  {
   "cell_type": "code",
   "execution_count": 3,
   "metadata": {},
   "outputs": [
    {
     "name": "stdout",
     "output_type": "stream",
     "text": [
      "<class 'pandas.core.frame.DataFrame'>\n",
      "RangeIndex: 42195 entries, 0 to 42194\n",
      "Data columns (total 19 columns):\n",
      " #   Column           Non-Null Count  Dtype  \n",
      "---  ------           --------------  -----  \n",
      " 0   id               42195 non-null  int64  \n",
      " 1   title            42195 non-null  object \n",
      " 2   overview         42195 non-null  object \n",
      " 3   release_date     42195 non-null  object \n",
      " 4   release_year     42195 non-null  int64  \n",
      " 5   budget           42195 non-null  float64\n",
      " 6   return           42195 non-null  float64\n",
      " 7   popularity       42195 non-null  float64\n",
      " 8   vote_average     42195 non-null  float64\n",
      " 9   vote_count       42195 non-null  float64\n",
      " 10  revenue          42195 non-null  float64\n",
      " 11  runtime          42195 non-null  float64\n",
      " 12  genres_names     42195 non-null  object \n",
      " 13  names_actors     42195 non-null  object \n",
      " 14  director         42195 non-null  object \n",
      " 15  companies_names  42195 non-null  object \n",
      " 16  name_collection  42195 non-null  object \n",
      " 17  countries_names  42195 non-null  object \n",
      " 18  lenguages_names  42195 non-null  object \n",
      "dtypes: float64(7), int64(2), object(10)\n",
      "memory usage: 6.1+ MB\n"
     ]
    }
   ],
   "source": [
    "df_movies.info()"
   ]
  },
  {
   "attachments": {},
   "cell_type": "markdown",
   "metadata": {},
   "source": [
    "Solo tomaremos las columnas que necesitemos para el sistema de recomendación."
   ]
  },
  {
   "cell_type": "code",
   "execution_count": 5,
   "metadata": {},
   "outputs": [],
   "source": [
    "df_movies = df_movies[[\"title\", \"overview\", \"release_year\", \"genres_names\", \"runtime\"]].copy()"
   ]
  },
  {
   "cell_type": "code",
   "execution_count": 6,
   "metadata": {},
   "outputs": [
    {
     "name": "stdout",
     "output_type": "stream",
     "text": [
      "<class 'pandas.core.frame.DataFrame'>\n",
      "RangeIndex: 42195 entries, 0 to 42194\n",
      "Data columns (total 5 columns):\n",
      " #   Column        Non-Null Count  Dtype  \n",
      "---  ------        --------------  -----  \n",
      " 0   title         42195 non-null  object \n",
      " 1   overview      42195 non-null  object \n",
      " 2   release_year  42195 non-null  int64  \n",
      " 3   genres_names  42195 non-null  object \n",
      " 4   runtime       42195 non-null  float64\n",
      "dtypes: float64(1), int64(1), object(3)\n",
      "memory usage: 1.6+ MB\n"
     ]
    }
   ],
   "source": [
    "df_movies.info()"
   ]
  },
  {
   "attachments": {},
   "cell_type": "markdown",
   "metadata": {},
   "source": [
    "Eliminamos los duplicados de la columna title."
   ]
  },
  {
   "cell_type": "code",
   "execution_count": 6,
   "metadata": {},
   "outputs": [
    {
     "data": {
      "text/plain": [
       "(42195, 5)"
      ]
     },
     "execution_count": 6,
     "metadata": {},
     "output_type": "execute_result"
    }
   ],
   "source": [
    "df_movies.drop_duplicates(subset=['title'],inplace=True)\n",
    "df_movies=df_movies.reset_index(drop=True)\n",
    "df_movies.shape"
   ]
  },
  {
   "cell_type": "code",
   "execution_count": 7,
   "metadata": {},
   "outputs": [
    {
     "name": "stdout",
     "output_type": "stream",
     "text": [
      "<bound method NDFrame.head of                              title  \\\n",
      "0                        Toy Story   \n",
      "1                          Jumanji   \n",
      "2                 Grumpier Old Men   \n",
      "3                Waiting to Exhale   \n",
      "4      Father of the Bride Part II   \n",
      "...                            ...   \n",
      "42190          The Burkittsville 7   \n",
      "42191              Caged Heat 3000   \n",
      "42192          Century of Birthing   \n",
      "42193             Satan Triumphant   \n",
      "42194                     Queerama   \n",
      "\n",
      "                                                overview  release_year  \\\n",
      "0      Led by Woody, Andy's toys live happily in his ...          1995   \n",
      "1      When siblings Judy and Peter discover an encha...          1995   \n",
      "2      A family wedding reignites the ancient feud be...          1995   \n",
      "3      Cheated on, mistreated and stepped on, the wom...          1995   \n",
      "4      Just when George Banks has recovered from his ...          1995   \n",
      "...                                                  ...           ...   \n",
      "42190  A film archivist revisits the story of Rustin ...          2000   \n",
      "42191  It's the year 3000 AD. The world's most danger...          1995   \n",
      "42192  An artist struggles to finish his work while a...          2011   \n",
      "42193  In a small town live two brothers, one a minis...          1917   \n",
      "42194  50 years after decriminalisation of homosexual...          2017   \n",
      "\n",
      "                             genres_names  runtime  \n",
      "0       ['Animation', 'Comedy', 'Family']     81.0  \n",
      "1      ['Adventure', 'Fantasy', 'Family']    104.0  \n",
      "2                   ['Romance', 'Comedy']    101.0  \n",
      "3          ['Comedy', 'Drama', 'Romance']    127.0  \n",
      "4                              ['Comedy']    106.0  \n",
      "...                                   ...      ...  \n",
      "42190                          ['Horror']     30.0  \n",
      "42191                 ['Science Fiction']     85.0  \n",
      "42192                           ['Drama']    360.0  \n",
      "42193                                  []     87.0  \n",
      "42194                                  []     75.0  \n",
      "\n",
      "[42195 rows x 5 columns]>\n"
     ]
    }
   ],
   "source": [
    "print(df_movies.head)"
   ]
  },
  {
   "attachments": {},
   "cell_type": "markdown",
   "metadata": {},
   "source": [
    "        ► Sistema de recomendación."
   ]
  },
  {
   "attachments": {},
   "cell_type": "markdown",
   "metadata": {},
   "source": [
    "Se realizará un sistema de recomendación de películas basados en el resumen y el género de la película de entrada. \n",
    "\n",
    "El resultado incluirá el título de la película, el año de estreno y la duración de la película recomendada.\n",
    "\n",
    "\n",
    "Lo que se realizó en la función fue:\n",
    "\n",
    "*Normalizamos el título ingresado por el usuario para que no distinga entre mayúsculas y minúsculas, y no tenga en cuenta los acentos.*\n",
    "\n",
    "*Se obtiene la película de entrada por título en la base de datos.*\n",
    " \n",
    "*Calculamos la similitud entre la película de entrada y las demás películas en función del resumen.*\n",
    "    \n",
    "*Se filtró las películas similares por género.*\n",
    "    \n",
    "*Se ordenó las películas similares según la similitud.*\n",
    "    \n",
    "*Conversión de los datos de duración de las recomendaciones de tipo float a int.*\n",
    "    \n",
    "*Retorno de las películas recomendadas, incluyendo el título, el año de estreno y la duración.*"
   ]
  },
  {
   "cell_type": "code",
   "execution_count": 8,
   "metadata": {},
   "outputs": [],
   "source": [
    "def normalize_text(text):\n",
    "    # Convertimos el texto a minúsculas y removemos acentos\n",
    "        if isinstance(text, str):\n",
    "            text = unidecode(text.lower())\n",
    "        else:\n",
    "            text = text.apply(lambda x: unidecode(x.lower()))\n",
    "        return text"
   ]
  },
  {
   "cell_type": "code",
   "execution_count": 9,
   "metadata": {},
   "outputs": [],
   "source": [
    "def recommend_movies(title):\n",
    "    # Normalizamos el título sin diferenciar acentos\n",
    "    title = normalize_text(title)\n",
    "    \n",
    "    # Obtenemos la película de entrada por título\n",
    "    movie = df_movies[normalize_text(df_movies['title'].apply(normalize_text)) == title]\n",
    "    \n",
    "    if len(movie) == 0:\n",
    "        return \"No se encontró la película en la base de datos.\"\n",
    "    \n",
    "    # Obtenemos el índice de la película de entrada\n",
    "    index = movie.index[0]\n",
    "    \n",
    "    # Obtenemos el resumen y género de la película de entrada\n",
    "    overview = df_movies.loc[index, 'overview']\n",
    "    genre = df_movies.loc[index, 'genres_names']\n",
    "    \n",
    "    # Calculamos la similitud basada en el resumen\n",
    "    tfidf_vectorizer = TfidfVectorizer()\n",
    "    tfidf_matrix = tfidf_vectorizer.fit_transform(df_movies['overview'])\n",
    "    overview_similarities = cosine_similarity(tfidf_matrix[index], tfidf_matrix).flatten()\n",
    "    \n",
    "    # Filtramos películas similares por género\n",
    "    similar_movies_indices = overview_similarities.argsort()[::-1]\n",
    "    similar_movies = df_movies.loc[similar_movies_indices]\n",
    "    similar_movies = similar_movies[similar_movies['genres_names'].str.contains(genre)].head(6)\n",
    "    \n",
    "    # Eliminamos la película de entrada de las recomendaciones\n",
    "    similar_movies = similar_movies[similar_movies.index != index]\n",
    "    \n",
    "    # Convertimos el tiempo a enteros\n",
    "    similar_movies['runtime'] = similar_movies['runtime'].astype(int)\n",
    "    \n",
    "    return similar_movies[['title', 'release_year', 'runtime']]\n"
   ]
  },
  {
   "cell_type": "code",
   "execution_count": 11,
   "metadata": {},
   "outputs": [
    {
     "name": "stdout",
     "output_type": "stream",
     "text": [
      "                                    title  release_year  runtime\n",
      "8988   Batman Beyond: Return of the Joker          2000       74\n",
      "17457               The Dark Knight Rises          2012      165\n",
      "23862                   Batman vs Dracula          2005       83\n",
      "14917          Batman: Under the Red Hood          2010       75\n",
      "30101    Batman Unlimited: Monster Mayhem          2015       81\n"
     ]
    }
   ],
   "source": [
    "title = input(\"Ingrese el título de la película: \")\n",
    "recommendations = recommend_movies(title)\n",
    "\n",
    "if isinstance(recommendations, str):\n",
    "    print(recommendations)\n",
    "else:\n",
    "    print(recommendations)"
   ]
  },
  {
   "cell_type": "code",
   "execution_count": null,
   "metadata": {},
   "outputs": [],
   "source": []
  }
 ],
 "metadata": {
  "kernelspec": {
   "display_name": "Python 3",
   "language": "python",
   "name": "python3"
  },
  "language_info": {
   "codemirror_mode": {
    "name": "ipython",
    "version": 3
   },
   "file_extension": ".py",
   "mimetype": "text/x-python",
   "name": "python",
   "nbconvert_exporter": "python",
   "pygments_lexer": "ipython3",
   "version": "3.10.11"
  },
  "orig_nbformat": 4
 },
 "nbformat": 4,
 "nbformat_minor": 2
}
