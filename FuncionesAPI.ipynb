{
 "cells": [
  {
   "attachments": {},
   "cell_type": "markdown",
   "metadata": {},
   "source": [
    "**Las funciones que se nos solicitan son:**\n",
    "\n",
    "    ► Cantidad de películas por idioma\n",
    "\n",
    "    ► Duración y año de la película ingresada\n",
    "\n",
    "    ► Cantidad de películas por franquicia, ganancia total y promedio\n",
    "\n",
    "    ► Cantidad de películas producidas por país\n",
    "\n",
    "    ► Cantidad de películas por productora y revenue del mismo\n",
    "    \n",
    "    ► Nombre de director, éxito del mismo medido a través del retorno, nombre de cada película en la que participó con la fecha de lanzamiento, retorno individual, costo y ganancia de la misma."
   ]
  },
  {
   "cell_type": "code",
   "execution_count": 91,
   "metadata": {},
   "outputs": [],
   "source": [
    "import pandas as pd\n",
    "import numpy as np\n",
    "import unicodedata\n",
    "from datetime import datetime\n",
    "import ast\n",
    "import re"
   ]
  },
  {
   "cell_type": "code",
   "execution_count": 92,
   "metadata": {},
   "outputs": [],
   "source": [
    "df = pd.read_csv(\"Movies_EDA.csv\", sep=\",\")"
   ]
  },
  {
   "cell_type": "code",
   "execution_count": 93,
   "metadata": {},
   "outputs": [
    {
     "name": "stdout",
     "output_type": "stream",
     "text": [
      "<class 'pandas.core.frame.DataFrame'>\n",
      "RangeIndex: 42195 entries, 0 to 42194\n",
      "Data columns (total 19 columns):\n",
      " #   Column           Non-Null Count  Dtype  \n",
      "---  ------           --------------  -----  \n",
      " 0   id               42195 non-null  int64  \n",
      " 1   title            42195 non-null  object \n",
      " 2   overview         42195 non-null  object \n",
      " 3   release_date     42195 non-null  object \n",
      " 4   release_year     42195 non-null  int64  \n",
      " 5   budget           42195 non-null  float64\n",
      " 6   return           42195 non-null  float64\n",
      " 7   popularity       42195 non-null  float64\n",
      " 8   vote_average     42195 non-null  float64\n",
      " 9   vote_count       42195 non-null  float64\n",
      " 10  revenue          42195 non-null  float64\n",
      " 11  runtime          42195 non-null  float64\n",
      " 12  genres_names     42195 non-null  object \n",
      " 13  names_actors     42195 non-null  object \n",
      " 14  director         42195 non-null  object \n",
      " 15  companies_names  42195 non-null  object \n",
      " 16  name_collection  42195 non-null  object \n",
      " 17  countries_names  42195 non-null  object \n",
      " 18  lenguages_names  42195 non-null  object \n",
      "dtypes: float64(7), int64(2), object(10)\n",
      "memory usage: 6.1+ MB\n"
     ]
    }
   ],
   "source": [
    "df.info()"
   ]
  },
  {
   "attachments": {},
   "cell_type": "markdown",
   "metadata": {},
   "source": [
    "Eliminamos duplicados de la columna id."
   ]
  },
  {
   "cell_type": "code",
   "execution_count": 94,
   "metadata": {},
   "outputs": [],
   "source": [
    "df.drop_duplicates(inplace=True)\n",
    "df.drop_duplicates(subset=['id'],inplace=True)\n",
    "df=df.reset_index(drop=True)"
   ]
  },
  {
   "cell_type": "code",
   "execution_count": 95,
   "metadata": {},
   "outputs": [],
   "source": [
    "df.drop(['id', 'overview', 'genres_names', 'popularity', 'vote_average', 'vote_count', 'names_actors'], axis=1, inplace=True)"
   ]
  },
  {
   "cell_type": "code",
   "execution_count": 96,
   "metadata": {},
   "outputs": [
    {
     "name": "stdout",
     "output_type": "stream",
     "text": [
      "<class 'pandas.core.frame.DataFrame'>\n",
      "RangeIndex: 42195 entries, 0 to 42194\n",
      "Data columns (total 12 columns):\n",
      " #   Column           Non-Null Count  Dtype  \n",
      "---  ------           --------------  -----  \n",
      " 0   title            42195 non-null  object \n",
      " 1   release_date     42195 non-null  object \n",
      " 2   release_year     42195 non-null  int64  \n",
      " 3   budget           42195 non-null  float64\n",
      " 4   return           42195 non-null  float64\n",
      " 5   revenue          42195 non-null  float64\n",
      " 6   runtime          42195 non-null  float64\n",
      " 7   director         42195 non-null  object \n",
      " 8   companies_names  42195 non-null  object \n",
      " 9   name_collection  42195 non-null  object \n",
      " 10  countries_names  42195 non-null  object \n",
      " 11  lenguages_names  42195 non-null  object \n",
      "dtypes: float64(4), int64(1), object(7)\n",
      "memory usage: 3.9+ MB\n"
     ]
    }
   ],
   "source": [
    "df.info()"
   ]
  },
  {
   "attachments": {},
   "cell_type": "markdown",
   "metadata": {},
   "source": [
    "API 1."
   ]
  },
  {
   "cell_type": "code",
   "execution_count": 97,
   "metadata": {},
   "outputs": [],
   "source": [
    "def idiomas_peliculas(idioma: str):\n",
    "    idiomas = df[df['lenguages_names'].apply(lambda x: idioma in x)]\n",
    "    total = len(idiomas)\n",
    "    return f\"Idioma: {idioma}\\nTotal de películas {total}\"\n"
   ]
  },
  {
   "cell_type": "code",
   "execution_count": 98,
   "metadata": {},
   "outputs": [
    {
     "name": "stdout",
     "output_type": "stream",
     "text": [
      "Idioma: Español\n",
      "Total de películas 2258\n"
     ]
    }
   ],
   "source": [
    "resultado = idiomas_peliculas(\"Español\")\n",
    "print(resultado)"
   ]
  },
  {
   "attachments": {},
   "cell_type": "markdown",
   "metadata": {},
   "source": [
    "API 2."
   ]
  },
  {
   "cell_type": "code",
   "execution_count": 99,
   "metadata": {},
   "outputs": [],
   "source": [
    "def peliculas_duracion(pelicula: str):\n",
    "    pelicula = pelicula.lower()\n",
    "    resultado = df[df['title'].str.lower() == pelicula]\n",
    "    if len(resultado) > 0:\n",
    "        duracion = resultado['runtime'].values[0]\n",
    "        año = resultado['release_year'].values[0]\n",
    "        return f\"Película: {pelicula}\\nDuración: {duracion}\\nAño: {año}\"\n",
    "    else:\n",
    "        return f\"No se encontró información para la película: {pelicula}\""
   ]
  },
  {
   "cell_type": "code",
   "execution_count": 100,
   "metadata": {},
   "outputs": [
    {
     "name": "stdout",
     "output_type": "stream",
     "text": [
      "Película: titanic\n",
      "Duración: 194.0\n",
      "Año: 1997\n"
     ]
    }
   ],
   "source": [
    "resultado = peliculas_duracion(\"Titanic\")\n",
    "print(resultado)"
   ]
  },
  {
   "attachments": {},
   "cell_type": "markdown",
   "metadata": {},
   "source": [
    "API 3."
   ]
  },
  {
   "cell_type": "code",
   "execution_count": 101,
   "metadata": {},
   "outputs": [],
   "source": [
    "def franquicia(Franquicia: str):\n",
    "    franquicia_busqueda = Franquicia.lower()\n",
    "    franquicia_filtrada = df[df['name_collection'].str.lower().str.contains(franquicia_busqueda)]\n",
    "    \n",
    "    cantidad_peliculas = len(franquicia_filtrada)\n",
    "    ganancia_total = round(franquicia_filtrada['return'].sum(), 2)\n",
    "    promedio_ganancia = round(franquicia_filtrada['return'].mean(), 2)\n",
    "    \n",
    "    return f\"Franquicia: {Franquicia}\\nCantidad de películas: {cantidad_peliculas}\\nGanancia total: {ganancia_total}\\nPromedio de ganancia: {promedio_ganancia}\""
   ]
  },
  {
   "cell_type": "code",
   "execution_count": 102,
   "metadata": {},
   "outputs": [
    {
     "name": "stdout",
     "output_type": "stream",
     "text": [
      "Franquicia: Harry Potter\n",
      "Cantidad de películas: 8\n",
      "Ganancia total: 53.17\n",
      "Promedio de ganancia: 6.65\n"
     ]
    }
   ],
   "source": [
    "resultado = franquicia(\"Harry Potter\")\n",
    "print(resultado)"
   ]
  },
  {
   "attachments": {},
   "cell_type": "markdown",
   "metadata": {},
   "source": [
    "API 4."
   ]
  },
  {
   "cell_type": "code",
   "execution_count": 103,
   "metadata": {},
   "outputs": [],
   "source": [
    "def peliculas_pais(Pais: str):\n",
    "    pais_busqueda = Pais.lower()\n",
    "    peliculas_producidas = df[df['countries_names'].str.lower().str.contains(pais_busqueda)]\n",
    "    cantidad_peliculas = len(peliculas_producidas)\n",
    "    return f\"País: {Pais}\\nCantidad de películas producidas: {cantidad_peliculas}\""
   ]
  },
  {
   "cell_type": "code",
   "execution_count": 104,
   "metadata": {},
   "outputs": [
    {
     "name": "stdout",
     "output_type": "stream",
     "text": [
      "País: Canada\n",
      "Cantidad de películas producidas: 1639\n"
     ]
    }
   ],
   "source": [
    "resultado = peliculas_pais(\"Canada\")\n",
    "print(resultado)"
   ]
  },
  {
   "attachments": {},
   "cell_type": "markdown",
   "metadata": {},
   "source": [
    "API 5."
   ]
  },
  {
   "cell_type": "code",
   "execution_count": 105,
   "metadata": {},
   "outputs": [],
   "source": [
    "def productoras_exitosas(Productora: str):\n",
    "    productora_busqueda = Productora.lower()\n",
    "    productora_filtrada = df[df['companies_names'].str.lower().str.contains(productora_busqueda)]\n",
    "    \n",
    "    cantidad_peliculas = len(productora_filtrada)\n",
    "    revenue_total = productora_filtrada['revenue'].sum()\n",
    "    \n",
    "    return f\"Productora: {Productora}\\nCantidad de películas realizadas: {cantidad_peliculas}\\nRevenue total: {revenue_total}\"\n"
   ]
  },
  {
   "cell_type": "code",
   "execution_count": 106,
   "metadata": {},
   "outputs": [
    {
     "name": "stdout",
     "output_type": "stream",
     "text": [
      "Productora: Paramount Pictures\n",
      "Cantidad de películas realizadas: 934\n",
      "Revenue total: 44777586089.0\n"
     ]
    }
   ],
   "source": [
    "resultado = productoras_exitosas(\"Paramount Pictures\")\n",
    "print(resultado)"
   ]
  },
  {
   "attachments": {},
   "cell_type": "markdown",
   "metadata": {},
   "source": [
    "API 6."
   ]
  },
  {
   "cell_type": "code",
   "execution_count": 107,
   "metadata": {},
   "outputs": [],
   "source": [
    "def get_director(nombre_director):\n",
    "    resultado = \"\"\n",
    "\n",
    "    for index, row in df.iterrows():\n",
    "        director = row['director']\n",
    "        if isinstance(director, str) and nombre_director.lower() == director.lower():\n",
    "            titulo = row['title']\n",
    "            fecha_lanzamiento = pd.to_datetime(row['release_date']).date()\n",
    "            retorno = round(row['return'], 2)\n",
    "            costo = int(row['budget'])\n",
    "            ganancia = int(row['revenue'])\n",
    "            \n",
    "            resultado += f\"Película: {titulo}\\nFecha de lanzamiento: {fecha_lanzamiento}\\nRetorno: {retorno}\\nCosto: {costo}\\nGanancia: {ganancia}\\n\\n\"\n",
    "    \n",
    "    if resultado == \"\":\n",
    "        resultado = \"No se encontró al director especificado.\"\n",
    "\n",
    "    return resultado"
   ]
  },
  {
   "cell_type": "code",
   "execution_count": 108,
   "metadata": {},
   "outputs": [
    {
     "name": "stdout",
     "output_type": "stream",
     "text": [
      "Película: True Lies\n",
      "Fecha de lanzamiento: 1994-07-14\n",
      "Retorno: 3.29\n",
      "Costo: 115000000\n",
      "Ganancia: 378882411\n",
      "\n",
      "Película: Terminator 2: Judgment Day\n",
      "Fecha de lanzamiento: 1991-07-01\n",
      "Retorno: 5.2\n",
      "Costo: 100000000\n",
      "Ganancia: 520000000\n",
      "\n",
      "Película: The Abyss\n",
      "Fecha de lanzamiento: 1989-08-09\n",
      "Retorno: 1.29\n",
      "Costo: 70000000\n",
      "Ganancia: 90000098\n",
      "\n",
      "Película: Aliens\n",
      "Fecha de lanzamiento: 1986-07-18\n",
      "Retorno: 9.91\n",
      "Costo: 18500000\n",
      "Ganancia: 183316455\n",
      "\n",
      "Película: The Terminator\n",
      "Fecha de lanzamiento: 1984-10-26\n",
      "Retorno: 12.25\n",
      "Costo: 6400000\n",
      "Ganancia: 78371200\n",
      "\n",
      "Película: Titanic\n",
      "Fecha de lanzamiento: 1997-11-18\n",
      "Retorno: 9.23\n",
      "Costo: 200000000\n",
      "Ganancia: 1845034188\n",
      "\n",
      "Película: Piranha Part Two: The Spawning\n",
      "Fecha de lanzamiento: 1981-01-01\n",
      "Retorno: 0.0\n",
      "Costo: 145786\n",
      "Ganancia: 0\n",
      "\n",
      "Película: Ghosts of the Abyss\n",
      "Fecha de lanzamiento: 2003-04-10\n",
      "Retorno: 1.31\n",
      "Costo: 13000000\n",
      "Ganancia: 17040871\n",
      "\n",
      "Película: Aliens of the Deep\n",
      "Fecha de lanzamiento: 2005-01-21\n",
      "Retorno: 0.0\n",
      "Costo: 0\n",
      "Ganancia: 0\n",
      "\n",
      "Película: Avatar\n",
      "Fecha de lanzamiento: 2009-12-10\n",
      "Retorno: 11.76\n",
      "Costo: 237000000\n",
      "Ganancia: 2787965087\n",
      "\n",
      "Película: Avatar 2\n",
      "Fecha de lanzamiento: 2020-12-16\n",
      "Retorno: 0.0\n",
      "Costo: 0\n",
      "Ganancia: 0\n",
      "\n",
      "Película: T2 3-D: Battle Across Time\n",
      "Fecha de lanzamiento: 1996-01-01\n",
      "Retorno: 0.0\n",
      "Costo: 0\n",
      "Ganancia: 0\n",
      "\n",
      "\n"
     ]
    }
   ],
   "source": [
    "nombre_director = \"James Cameron\"\n",
    "resultado = get_director(nombre_director)\n",
    "print(resultado)"
   ]
  },
  {
   "attachments": {},
   "cell_type": "markdown",
   "metadata": {},
   "source": [
    "Las funciones de la 2 a la 6 están normalizadas."
   ]
  },
  {
   "cell_type": "markdown",
   "metadata": {},
   "source": []
  }
 ],
 "metadata": {
  "kernelspec": {
   "display_name": "Python 3",
   "language": "python",
   "name": "python3"
  },
  "language_info": {
   "codemirror_mode": {
    "name": "ipython",
    "version": 3
   },
   "file_extension": ".py",
   "mimetype": "text/x-python",
   "name": "python",
   "nbconvert_exporter": "python",
   "pygments_lexer": "ipython3",
   "version": "3.11.1"
  },
  "orig_nbformat": 4
 },
 "nbformat": 4,
 "nbformat_minor": 2
}
