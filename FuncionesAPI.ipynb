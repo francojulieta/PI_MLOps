{
 "cells": [
  {
   "attachments": {},
   "cell_type": "markdown",
   "metadata": {},
   "source": [
    "**Las funciones que se nos solicitan son:**\n",
    "\n",
    "    ► Cantidad de películas estrenadas en un mes\n",
    "\n",
    "    ► Cantidad de filmaciones estrenadas en un día\n",
    "\n",
    "    ► Título, año de estreno y score de la película ingresada\n",
    "\n",
    "    ► Título, cantidad de votos y valor promedio de las votaciones. La misma deberá contar con al menos 2000 valoraciones\n",
    "\n",
    "    ► Nombre de actor, éxito del mismo medido a través del retorno, cantidad de películas en las que participó y promedio de retorno\n",
    "    \n",
    "    ► Nombre de director, éxito del mismo medido a través del retorno, nombre de cada película en la que participó con la fecha de lanzamiento, retorno individual, costo y ganancia de la misma."
   ]
  },
  {
   "cell_type": "code",
   "execution_count": 22,
   "metadata": {},
   "outputs": [],
   "source": [
    "import pandas as pd\n",
    "import numpy as np\n",
    "import unicodedata\n",
    "from datetime import datetime\n",
    "import ast\n",
    "import re"
   ]
  },
  {
   "cell_type": "code",
   "execution_count": 23,
   "metadata": {},
   "outputs": [],
   "source": [
    "df = pd.read_csv(\"Movies_EDA.csv\", sep=\",\")"
   ]
  },
  {
   "cell_type": "code",
   "execution_count": 24,
   "metadata": {},
   "outputs": [
    {
     "name": "stdout",
     "output_type": "stream",
     "text": [
      "<class 'pandas.core.frame.DataFrame'>\n",
      "RangeIndex: 42195 entries, 0 to 42194\n",
      "Data columns (total 16 columns):\n",
      " #   Column           Non-Null Count  Dtype  \n",
      "---  ------           --------------  -----  \n",
      " 0   id               42195 non-null  int64  \n",
      " 1   title            42195 non-null  object \n",
      " 2   overview         42195 non-null  object \n",
      " 3   release_date     42195 non-null  object \n",
      " 4   release_year     42195 non-null  int64  \n",
      " 5   budget           42195 non-null  float64\n",
      " 6   return           42195 non-null  float64\n",
      " 7   popularity       42195 non-null  float64\n",
      " 8   vote_average     42195 non-null  float64\n",
      " 9   vote_count       42195 non-null  float64\n",
      " 10  revenue          42195 non-null  float64\n",
      " 11  runtime          42195 non-null  float64\n",
      " 12  genres_names     42195 non-null  object \n",
      " 13  names_actors     42195 non-null  object \n",
      " 14  director         42195 non-null  object \n",
      " 15  companies_names  42195 non-null  object \n",
      "dtypes: float64(7), int64(2), object(7)\n",
      "memory usage: 5.2+ MB\n"
     ]
    }
   ],
   "source": [
    "df.info()"
   ]
  },
  {
   "attachments": {},
   "cell_type": "markdown",
   "metadata": {},
   "source": [
    "Eliminamos duplicados de la columna id."
   ]
  },
  {
   "cell_type": "code",
   "execution_count": 25,
   "metadata": {},
   "outputs": [],
   "source": [
    "df.drop_duplicates(inplace=True)\n",
    "df.drop_duplicates(subset=['id'],inplace=True)\n",
    "df=df.reset_index(drop=True)"
   ]
  },
  {
   "cell_type": "code",
   "execution_count": 26,
   "metadata": {},
   "outputs": [],
   "source": [
    "df.drop(['id', 'overview', 'runtime', 'genres_names', 'companies_names'], axis=1, inplace=True)"
   ]
  },
  {
   "cell_type": "code",
   "execution_count": 27,
   "metadata": {},
   "outputs": [
    {
     "name": "stdout",
     "output_type": "stream",
     "text": [
      "<class 'pandas.core.frame.DataFrame'>\n",
      "RangeIndex: 42195 entries, 0 to 42194\n",
      "Data columns (total 11 columns):\n",
      " #   Column        Non-Null Count  Dtype  \n",
      "---  ------        --------------  -----  \n",
      " 0   title         42195 non-null  object \n",
      " 1   release_date  42195 non-null  object \n",
      " 2   release_year  42195 non-null  int64  \n",
      " 3   budget        42195 non-null  float64\n",
      " 4   return        42195 non-null  float64\n",
      " 5   popularity    42195 non-null  float64\n",
      " 6   vote_average  42195 non-null  float64\n",
      " 7   vote_count    42195 non-null  float64\n",
      " 8   revenue       42195 non-null  float64\n",
      " 9   names_actors  42195 non-null  object \n",
      " 10  director      42195 non-null  object \n",
      "dtypes: float64(6), int64(1), object(4)\n",
      "memory usage: 3.5+ MB\n"
     ]
    }
   ],
   "source": [
    "df.info()"
   ]
  },
  {
   "attachments": {},
   "cell_type": "markdown",
   "metadata": {},
   "source": [
    "API 1."
   ]
  },
  {
   "cell_type": "code",
   "execution_count": 28,
   "metadata": {},
   "outputs": [],
   "source": [
    "#Cambiamos el tipo de dato de release_date a cual corresponda\n",
    "df['release_date'] = pd.to_datetime(df['release_date'])\n",
    "\n",
    "def cantidad_filmaciones_mes(mes):\n",
    "    # Filtramos el DataFrame por el mes especificado\n",
    "    df_mes = df[df['release_date'].dt.month_name(locale='es').str.lower() == mes.lower()]\n",
    "\n",
    "    # Obtenemos la cantidad de películas en el mes consultado\n",
    "    cantidad = len(df_mes)\n",
    "\n",
    "    # Retornar el resultado en un diccionario\n",
    "    return f\"Cantidad: {cantidad}\\nMes: {mes.capitalize()}\"\n"
   ]
  },
  {
   "cell_type": "code",
   "execution_count": 29,
   "metadata": {},
   "outputs": [
    {
     "name": "stdout",
     "output_type": "stream",
     "text": [
      "Cantidad: 2464\n",
      "Mes: Julio\n"
     ]
    }
   ],
   "source": [
    "resultado = cantidad_filmaciones_mes(\"julio\")\n",
    "print(resultado)"
   ]
  },
  {
   "attachments": {},
   "cell_type": "markdown",
   "metadata": {},
   "source": [
    "API 2."
   ]
  },
  {
   "cell_type": "code",
   "execution_count": 30,
   "metadata": {},
   "outputs": [],
   "source": [
    "def remover_acentos(texto):\n",
    "    texto_normalizado = unicodedata.normalize('NFKD', texto)\n",
    "    texto_sin_acentos = ''.join(c for c in texto_normalizado if not unicodedata.combining(c))\n",
    "    return texto_sin_acentos\n",
    "\n",
    "def cantidad_filmaciones_dia(dia):\n",
    "    # Normalizamos el día ingresado para tener en cuenta los acentos\n",
    "    dia_normalizado = remover_acentos(dia)\n",
    "\n",
    "    # Filtramos el DataFrame por el día especificado\n",
    "    df_dia = df[df['release_date'].dt.day_name(locale='es').str.lower().str.normalize('NFKD').str.encode('ascii', errors='ignore').str.decode('utf-8') == dia_normalizado.lower()]\n",
    "\n",
    "    # Obtenemos la cantidad de películas en el día consultado\n",
    "    cantidad = len(df_dia)\n",
    "\n",
    "    return f\"Día: {dia.capitalize()}\\nCantidad de filmaciones: {cantidad}\""
   ]
  },
  {
   "cell_type": "code",
   "execution_count": 31,
   "metadata": {},
   "outputs": [
    {
     "name": "stdout",
     "output_type": "stream",
     "text": [
      "Día: Martes\n",
      "Cantidad de filmaciones: 4333\n"
     ]
    }
   ],
   "source": [
    "cantidad = cantidad_filmaciones_dia(\"martes\")\n",
    "print(cantidad)"
   ]
  },
  {
   "attachments": {},
   "cell_type": "markdown",
   "metadata": {},
   "source": [
    "API 3."
   ]
  },
  {
   "cell_type": "code",
   "execution_count": 32,
   "metadata": {},
   "outputs": [],
   "source": [
    "def score_titulo(titulo_de_la_filmacion):\n",
    "    # Convertimos el título de la filmación a minúsculas\n",
    "    titulo_busqueda = titulo_de_la_filmacion.lower()\n",
    "\n",
    "    # Filtramos el DataFrame por el título de la filmación\n",
    "    df_filmacion = df[df['title'].str.lower() == titulo_busqueda]\n",
    "\n",
    "    # Verificamos si se encontró la filmación\n",
    "    if len(df_filmacion) == 0:\n",
    "        return \"No se encontró la filmación especificada.\"\n",
    "\n",
    "    # Obtenemos los datos de interés\n",
    "    titulo = df_filmacion['title'].values[0]\n",
    "    año_estreno = df_filmacion['release_year'].values[0]\n",
    "    score = round(df_filmacion['popularity'].values[0], 2)\n",
    "\n",
    "    return f\"Película: {titulo}\\nAño de estreno: {año_estreno}\\nPuntuación: {score}\""
   ]
  },
  {
   "cell_type": "code",
   "execution_count": 33,
   "metadata": {},
   "outputs": [
    {
     "name": "stdout",
     "output_type": "stream",
     "text": [
      "Película: A Perfect World\n",
      "Año de estreno: 1993\n",
      "Puntuación: 8.04\n"
     ]
    }
   ],
   "source": [
    "score = score_titulo(\"A Perfect World\")\n",
    "print(score)"
   ]
  },
  {
   "attachments": {},
   "cell_type": "markdown",
   "metadata": {},
   "source": [
    "API 4."
   ]
  },
  {
   "cell_type": "code",
   "execution_count": 34,
   "metadata": {},
   "outputs": [],
   "source": [
    "def votos_titulo(titulo_de_la_filmacion):\n",
    "    # Filtramos el DataFrame por el título de la filmación\n",
    "    df_filmacion = df[df['title'] == titulo_de_la_filmacion]\n",
    "\n",
    "    # Verificamos si se encontró la filmación\n",
    "    if len(df_filmacion) == 0:\n",
    "        return \"No se encontró la filmación especificada.\"\n",
    "\n",
    "    # Obtenemos los datos de interés\n",
    "    titulo = df_filmacion['title'].values[0]\n",
    "    cantidad_votos = int(df_filmacion['vote_count'].values[0])\n",
    "    promedio_votos = round(df_filmacion['vote_average'].values[0], 2)\n",
    "    año_estreno = df_filmacion['release_year'].values[0]\n",
    "\n",
    "    # Verificamos si cumple con la condición de al menos 2000 valoraciones\n",
    "    if cantidad_votos < 2000:\n",
    "        return \"La película no cumple con la condición de tener al menos 2000 valoraciones.\"\n",
    "\n",
    "    return f\"Película: {titulo}\\nAño de estreno: {año_estreno}\\nCantidad de votos: {cantidad_votos}\\nPromedio de valoraciones: {promedio_votos}\""
   ]
  },
  {
   "cell_type": "code",
   "execution_count": 35,
   "metadata": {},
   "outputs": [
    {
     "name": "stdout",
     "output_type": "stream",
     "text": [
      "Película: Jumanji\n",
      "Año de estreno: 1995\n",
      "Cantidad de votos: 2413\n",
      "Promedio de valoraciones: 6.9\n"
     ]
    }
   ],
   "source": [
    "titulo = \"Jumanji\"\n",
    "resultado = votos_titulo(titulo)\n",
    "print(resultado)"
   ]
  },
  {
   "attachments": {},
   "cell_type": "markdown",
   "metadata": {},
   "source": [
    "API 5."
   ]
  },
  {
   "cell_type": "code",
   "execution_count": 36,
   "metadata": {},
   "outputs": [],
   "source": [
    "def get_actor(nombre_actor):\n",
    "    cantidad_peliculas = 0\n",
    "    total_retorno = 0\n",
    "\n",
    "    for index, row in df.iterrows():\n",
    "        nombres_actores = row['names_actors']\n",
    "        retorno = row['return']\n",
    "\n",
    "        if nombre_actor.lower() in nombres_actores.lower():\n",
    "            cantidad_peliculas += 1\n",
    "            total_retorno += retorno\n",
    "\n",
    "    if cantidad_peliculas == 0:\n",
    "        return \"No se encontró al actor especificado.\"\n",
    "\n",
    "    promedio_retorno = round((total_retorno / cantidad_peliculas), 2)\n",
    "\n",
    "    return f\"Actor: {nombre_actor}\\nParticipación en películas: {cantidad_peliculas}\\nPromedio de retorno: {promedio_retorno}\"\n"
   ]
  },
  {
   "cell_type": "code",
   "execution_count": 37,
   "metadata": {},
   "outputs": [
    {
     "name": "stdout",
     "output_type": "stream",
     "text": [
      "Actor: Tom Hanks\n",
      "Participación en películas: 67\n",
      "Promedio de retorno: 2.61\n"
     ]
    }
   ],
   "source": [
    "nombre_actor = \"Tom Hanks\" \n",
    "resultado = get_actor(nombre_actor)\n",
    "print(resultado)"
   ]
  },
  {
   "attachments": {},
   "cell_type": "markdown",
   "metadata": {},
   "source": [
    "API 6."
   ]
  },
  {
   "cell_type": "code",
   "execution_count": 38,
   "metadata": {},
   "outputs": [],
   "source": [
    "def get_director(nombre_director):\n",
    "    resultado = \"\"\n",
    "\n",
    "    for index, row in df.iterrows():\n",
    "        director = row['director']\n",
    "        if isinstance(director, str) and nombre_director.lower() == director.lower():\n",
    "            titulo = row['title']\n",
    "            fecha_lanzamiento = pd.to_datetime(row['release_date']).date()\n",
    "            retorno = round(row['return'], 2)\n",
    "            costo = int(row['budget'])\n",
    "            ganancia = int(row['revenue'])\n",
    "            \n",
    "            resultado += f\"Película: {titulo}\\nFecha de lanzamiento: {fecha_lanzamiento}\\nRetorno: {retorno}\\nCosto: {costo}\\nGanancia: {ganancia}\\n\\n\"\n",
    "    \n",
    "    if resultado == \"\":\n",
    "        resultado = \"No se encontró al director especificado.\"\n",
    "\n",
    "    return resultado"
   ]
  },
  {
   "cell_type": "code",
   "execution_count": 39,
   "metadata": {},
   "outputs": [
    {
     "name": "stdout",
     "output_type": "stream",
     "text": [
      "Película: True Lies\n",
      "Fecha de lanzamiento: 1994-07-14\n",
      "Retorno: 3.29\n",
      "Costo: 115000000\n",
      "Ganancia: 378882411\n",
      "\n",
      "Película: Terminator 2: Judgment Day\n",
      "Fecha de lanzamiento: 1991-07-01\n",
      "Retorno: 5.2\n",
      "Costo: 100000000\n",
      "Ganancia: 520000000\n",
      "\n",
      "Película: The Abyss\n",
      "Fecha de lanzamiento: 1989-08-09\n",
      "Retorno: 1.29\n",
      "Costo: 70000000\n",
      "Ganancia: 90000098\n",
      "\n",
      "Película: Aliens\n",
      "Fecha de lanzamiento: 1986-07-18\n",
      "Retorno: 9.91\n",
      "Costo: 18500000\n",
      "Ganancia: 183316455\n",
      "\n",
      "Película: The Terminator\n",
      "Fecha de lanzamiento: 1984-10-26\n",
      "Retorno: 12.25\n",
      "Costo: 6400000\n",
      "Ganancia: 78371200\n",
      "\n",
      "Película: Titanic\n",
      "Fecha de lanzamiento: 1997-11-18\n",
      "Retorno: 9.23\n",
      "Costo: 200000000\n",
      "Ganancia: 1845034188\n",
      "\n",
      "Película: Piranha Part Two: The Spawning\n",
      "Fecha de lanzamiento: 1981-01-01\n",
      "Retorno: 0.0\n",
      "Costo: 145786\n",
      "Ganancia: 0\n",
      "\n",
      "Película: Ghosts of the Abyss\n",
      "Fecha de lanzamiento: 2003-04-10\n",
      "Retorno: 1.31\n",
      "Costo: 13000000\n",
      "Ganancia: 17040871\n",
      "\n",
      "Película: Aliens of the Deep\n",
      "Fecha de lanzamiento: 2005-01-21\n",
      "Retorno: 0.0\n",
      "Costo: 0\n",
      "Ganancia: 0\n",
      "\n",
      "Película: Avatar\n",
      "Fecha de lanzamiento: 2009-12-10\n",
      "Retorno: 11.76\n",
      "Costo: 237000000\n",
      "Ganancia: 2787965087\n",
      "\n",
      "Película: Avatar 2\n",
      "Fecha de lanzamiento: 2020-12-16\n",
      "Retorno: 0.0\n",
      "Costo: 0\n",
      "Ganancia: 0\n",
      "\n",
      "Película: T2 3-D: Battle Across Time\n",
      "Fecha de lanzamiento: 1996-01-01\n",
      "Retorno: 0.0\n",
      "Costo: 0\n",
      "Ganancia: 0\n",
      "\n",
      "\n"
     ]
    }
   ],
   "source": [
    "nombre_director = \"James Cameron\"\n",
    "resultado = get_director(nombre_director)\n",
    "print(resultado)"
   ]
  },
  {
   "attachments": {},
   "cell_type": "markdown",
   "metadata": {},
   "source": [
    "Tanto la API 5 como la API 6 están normalizadas para que se puedan leer sin discriminar entre mayúsculas y minúsculas."
   ]
  }
 ],
 "metadata": {
  "kernelspec": {
   "display_name": "Python 3",
   "language": "python",
   "name": "python3"
  },
  "language_info": {
   "codemirror_mode": {
    "name": "ipython",
    "version": 3
   },
   "file_extension": ".py",
   "mimetype": "text/x-python",
   "name": "python",
   "nbconvert_exporter": "python",
   "pygments_lexer": "ipython3",
   "version": "3.11.1"
  },
  "orig_nbformat": 4
 },
 "nbformat": 4,
 "nbformat_minor": 2
}
